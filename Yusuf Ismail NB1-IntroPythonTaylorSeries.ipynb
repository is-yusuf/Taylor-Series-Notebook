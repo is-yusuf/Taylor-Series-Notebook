{
 "cells": [
  {
   "cell_type": "markdown",
   "metadata": {
    "id": "LvbmIb1sL-rc",
    "tags": []
   },
   "source": [
    "# Classy Notebook 1 -- Introduction to Python and Taylor Series\n",
    "\n",
    "Welcome to the computational lab component of Classy. In these series of notebooks, we will use numerical (computational) techniques to both solve (because there is no other way, in some situations) and otherwise understand better -- as functions of parameters, initial conditions, etc -- solutions to a a variety of different physical systems. Working on these notebooks will allow us to get to current understanding of classical dynamical systems including those which are still not fuly understoon, and will set you up for a research exploration project at the end of the term. \n",
    "\n",
    "This -- and other notebooks you will use -- rely very heavily on the work of Prof. C. Christensen '05, Grinnell College, and her colleagues. We will also use notebooks and ideas adapted by Osip Surdovitch who worked on this.\n",
    "\n",
    "## Objectives\n",
    "In this lab, you will \n",
    "\n",
    "* learn how to open, edit, run and save an iPython notebook;\n",
    "* become familiar with different python data types and how to print variables and use them in calculation;\n",
    "* manipulate python lists and arrays;\n",
    "* plot data;\n",
    "* and use Taylor series to approximate a function."
   ]
  },
  {
   "cell_type": "markdown",
   "metadata": {
    "id": "WXUyrh46L-rk",
    "tags": []
   },
   "source": [
    "## Working with IPython Notebook\n",
    "\n",
    "*  We'll use the anaconda python software package. It should be installed on all of the machines in this lab.  If you would like to use python on another computer (for example, your personal computer) you will need to install anaconda from the following website https://www.continuum.io/downloads.  ** Make sure you download python 3, which is the version we will be using this semester. **\n",
    "\n",
    "There's no better way to learn to code than to start coding.  Therefore, rather than reading all about ipython notebook, we will immediately start executing commands and working from examples.  Here goes: "
   ]
  },
  {
   "cell_type": "markdown",
   "metadata": {
    "id": "_6G9m5REL-rm"
   },
   "source": [
    "### Cell Types"
   ]
  },
  {
   "cell_type": "markdown",
   "metadata": {
    "id": "UEgv3LQdL-rn",
    "tags": []
   },
   "source": [
    "iPython notebooks consist of sets of cells that can be either \"markdown\" cells or \"code\" cells. The type of given cell is listed in the pulldown menu in the toolbar above (this one is labeled \"Markdown\"). You can change the type of cell by selecting a different type from the pulldown menu.\n",
    "\n",
    "#### Markdown Cells  \n",
    "Markdown cells generally contain text, for instance, instructions or explanations. For examples, this cell is a markdown cell. Markdown refers to a markup language with syntax designed for writing formatted text.  It's easily converted to html and other formats. Markdown syntax includes headers of various sizes, lists, paragraphs, <span style=\"color:blue\"> color </span>, *** text emphasis***, math latex using mathjax, etc. You can also use html tags, but it's hard remember more than one or two tags at any given time. For more detailed information see: https://help.github.com/articles/markdown-basics/.  \n",
    "\n",
    "As an example of how markdown syntax can be used for format text, here's your favorite equation using mathjax math latex.  \n",
    "$$ \\sum F = m \\ddot x $$\n",
    "\n",
    "**Try this:**\n",
    "* To see the syntax of this markdown cell, click on this cell with your cursor and push `return`.\n",
    "* Then run the cell (type `shift-return`) to show the marked-up cell. Alternatively, click the triangle icon in the toolbar above.\n",
    "\n",
    "*Note: If you're interested in more markdown details, the above link is an excellent place to start. *"
   ]
  },
  {
   "cell_type": "markdown",
   "metadata": {
    "id": "zhzHr0s7L-ro"
   },
   "source": [
    "#### Code Cells\n",
    "Python code and ipython code extensions go into code cells. The entire cell can be executed by typing `shift-enter`. In the next section you will run some example code.  \n",
    "\n",
    "*Note: To get help on other such notebook commands, do an `esc-h`. The `esc` puts you into command mode; the `h` calls for a help page. *\n",
    "\n",
    "It helps a lot to have line numbers in each cell so that you're easily able to refer to specific lines. If they aren't already on by default, hit `esc-shift-L`, or go into the view menu and click toggle line numbers."
   ]
  },
  {
   "cell_type": "markdown",
   "metadata": {
    "id": "lEZsLXFYL-rq"
   },
   "source": [
    "# Python Example Code\n",
    "## Variables\n",
    "### Changing variables\n",
    "Work through the following cells of code, executing each one by one. Even better, create a new notebook, and type in these things into that new notebook, and see what you get."
   ]
  },
  {
   "cell_type": "code",
   "execution_count": 1,
   "metadata": {
    "id": "WrW-uUMBL-rr"
   },
   "outputs": [],
   "source": [
    "# The `#` key is the comment character in python. Any line that starts with it, such as this one, will not be executed.\n",
    "\n",
    "# The following are import statements, which we always put at the\n",
    "#    beginning of a notebook. These import packages (also called \n",
    "#    libraries) which add functionality to Python\n",
    "# numpy, short for Numerical Python covers a huge number of \n",
    "#    mathematical functions and datatypes\n",
    "# matplotlib is a library that makes it easy to make nice-looking\n",
    "#    plots and graphs\n",
    "import numpy as np\n",
    "import matplotlib.pyplot as plt"
   ]
  },
  {
   "cell_type": "code",
   "execution_count": null,
   "metadata": {
    "id": "bwZvR7nWL-rv",
    "outputId": "dcb39407-3a29-45b9-caa3-c36d7e8719ed"
   },
   "outputs": [
    {
     "name": "stdout",
     "output_type": "stream",
     "text": [
      "The variable aObj is equal to  234\n"
     ]
    }
   ],
   "source": [
    "# This cell defines a variable, aObj, sets it equal to 234, and prints a statement about it\n",
    "\n",
    "aObj = 234\n",
    "print(\"The variable aObj is equal to \",aObj)"
   ]
  },
  {
   "cell_type": "code",
   "execution_count": null,
   "metadata": {
    "id": "crIfT-UBL-ry",
    "outputId": "c09981d7-8ee1-4f28-d2e6-ff5160c48a52"
   },
   "outputs": [
    {
     "name": "stdout",
     "output_type": "stream",
     "text": [
      "The variable aObj is still equal to  234\n"
     ]
    }
   ],
   "source": [
    "# Now that aObj has been set to a value, other cells in the notebook will also know its value.\n",
    "\n",
    "print(\"The variable aObj is still equal to \",aObj)"
   ]
  },
  {
   "cell_type": "code",
   "execution_count": null,
   "metadata": {
    "id": "yaIuNPPxL-r0"
   },
   "outputs": [],
   "source": [
    "# If we change the value of aObj in this cell and the reexecute the previous cell it will update to the newest value. \n",
    "##### DO THIS: Try it for yourself and see by executing this cell and reexcuting the previous ones.\n",
    "\n",
    "aObj = 1"
   ]
  },
  {
   "cell_type": "markdown",
   "metadata": {
    "id": "vWNMwAryL-r1"
   },
   "source": [
    "If you want to clear all your variables, you can do so by selecting \"Restart\" in the Kernel menu. Do so, and then execute the following code cell. Notice that the number next to the code cell is now 1. Once you have convinced yourself that the variable was cleared, rerun the notebook to this point. You can do this easily by selecting \"Run All Above\" in the Cell menu."
   ]
  },
  {
   "cell_type": "code",
   "execution_count": null,
   "metadata": {
    "id": "HW0baxQwL-r2",
    "outputId": "7f08dcc7-6638-4a6f-95b5-ba03deada5f0"
   },
   "outputs": [
    {
     "name": "stdout",
     "output_type": "stream",
     "text": [
      "The variable aObj is equal to  1\n"
     ]
    }
   ],
   "source": [
    "print(\"The variable aObj is equal to \",aObj)"
   ]
  },
  {
   "cell_type": "markdown",
   "metadata": {
    "id": "wA73pgyYL-r3"
   },
   "source": [
    "### Using python for calculations\n",
    "Python can easily be used for computations. The cell below gives three examples. Be sure you are clear on the syntax used."
   ]
  },
  {
   "cell_type": "code",
   "execution_count": 76,
   "metadata": {
    "id": "E2XNWk2rL-r3"
   },
   "outputs": [
    {
     "name": "stdout",
     "output_type": "stream",
     "text": [
      "1104.0 0.36231884057971014 400.0\n"
     ]
    }
   ],
   "source": [
    "a = 20.0\n",
    "b = 55.2\n",
    "print(a*b, a/b, a**2)"
   ]
  },
  {
   "cell_type": "markdown",
   "metadata": {
    "id": "GBuAIpcyL-r4"
   },
   "source": [
    "#### Exercise 1.1\n",
    "\n",
    "In the next cell, calculate the following for c = 4 and a and b as defined above\n",
    "* $\\frac{a+b}{c}$\n",
    "* $\\sqrt{c}$\n",
    "* $a^c b^c$"
   ]
  },
  {
   "cell_type": "code",
   "execution_count": 78,
   "metadata": {
    "id": "pKIinJrQL-r5"
   },
   "outputs": [
    {
     "name": "stdout",
     "output_type": "stream",
     "text": [
      "18.8\n",
      "2.0 2.0\n",
      "1485512441856.0005\n"
     ]
    }
   ],
   "source": [
    "#/ <Exercise 1.1 solution>\n",
    "c=4\n",
    "print ((a+b)/c)\n",
    "print (c**(1/2), np.sqrt(c))\n",
    "print((a**c) * (b**c) )\n",
    "#/"
   ]
  },
  {
   "cell_type": "markdown",
   "metadata": {
    "id": "TEyWZi-qL-r6"
   },
   "source": [
    "### Data types"
   ]
  },
  {
   "cell_type": "code",
   "execution_count": 3,
   "metadata": {
    "id": "JukEBJ6JL-r6"
   },
   "outputs": [
    {
     "name": "stdout",
     "output_type": "stream",
     "text": [
      "a =  20   and a's datatype is  <class 'int'>\n",
      "b =  55.2   and b's datatype is  <class 'float'>\n",
      "c =  (5+100j)   and c's datatype is  <class 'complex'>\n"
     ]
    }
   ],
   "source": [
    "# Numbers in python can be either integers, floating point (i.e. real numbers), or complex numbers.\n",
    "# \"type\" is a built-in Python function that will return the data type of an object.\n",
    "a = 20\n",
    "print(\"a = \", a, \"  and a's datatype is \", type(a)) \n",
    "b = 55.2\n",
    "print(\"b = \", b, \"  and b's datatype is \", type(b))\n",
    "c = 5+100j\n",
    "print(\"c = \", c, \"  and c's datatype is \", type(c))"
   ]
  },
  {
   "cell_type": "code",
   "execution_count": 4,
   "metadata": {
    "id": "dfXldTBKL-r7"
   },
   "outputs": [
    {
     "name": "stdout",
     "output_type": "stream",
     "text": [
      "a+b =  75.2   and a+b's datatype is  <class 'float'>\n"
     ]
    }
   ],
   "source": [
    "##### DO THIS: try modifying the following line of code to add and multiply different numerical data types.\n",
    "# Make sure you understand the output\n",
    "print(\"a+b = \", a+b, \"  and a+b's datatype is \", type(a+b))"
   ]
  },
  {
   "cell_type": "code",
   "execution_count": 5,
   "metadata": {
    "id": "tAAbhfKUL-r7"
   },
   "outputs": [
    {
     "name": "stdout",
     "output_type": "stream",
     "text": [
      "d =  0   and d's datatype is  <class 'str'>\n"
     ]
    }
   ],
   "source": [
    "#Data may also be stored as a string. \n",
    "##### DO THIS: Modify the following line of code to set d equal to \"Mechanics Lab\"\n",
    "d = \"0\"\n",
    "print(\"d = \", d, \"  and d's datatype is \", type(d))"
   ]
  },
  {
   "cell_type": "markdown",
   "metadata": {
    "id": "lSNAdeDtL-r8"
   },
   "source": [
    "### Formatting output\n",
    "\n",
    "Sometimes you may want to format numerical output (for example, the a/b output from three cells above), so it doesn't print so many decimal places. The cell below shows you how.\n"
   ]
  },
  {
   "cell_type": "code",
   "execution_count": 6,
   "metadata": {
    "id": "oHgoXCSKL-r9"
   },
   "outputs": [
    {
     "name": "stdout",
     "output_type": "stream",
     "text": [
      "(a/b) =  0.362\n"
     ]
    }
   ],
   "source": [
    "aOverbFormatedString = \"(a/b) = {:6.3f}\".format(a/b)  \n",
    "# 6 places, with 3 numbers after the decimal point\n",
    "\n",
    "print(aOverbFormatedString)\n",
    "\n",
    "aFormattedString = \"a = {:6d}\".format(a)\n",
    "# 6 places of integer with leading spaces.  (The d signifies an integer.)\n",
    "\n",
    "newString = aOverbFormatedString + \"\\t\" + aFormattedString\n",
    "# \\t is the same as hitting the tab key\n",
    "\n",
    "##### DO THIS: modify this cell to print each of the variables above to see the results.\n",
    "# Hint: try hitting tab when you are typing variables, especially those with long names"
   ]
  },
  {
   "cell_type": "markdown",
   "metadata": {
    "id": "VLGeTEOtL-r9"
   },
   "source": [
    "#### Exercise 1.2\n",
    "\n",
    "In the cell below, print out first 10 digits of pi.  *Hint: Numpy has a stored version  \n",
    "of $\\pi$.  See if you can find how to call it. The web might be especially useful here.*"
   ]
  },
  {
   "cell_type": "code",
   "execution_count": 83,
   "metadata": {
    "id": "QRVFs1pvL-r-"
   },
   "outputs": [
    {
     "name": "stdout",
     "output_type": "stream",
     "text": [
      "pi to 10th digit = 3.1415926536\n"
     ]
    }
   ],
   "source": [
    "#/ <Exercise 1.2 solution>\n",
    "pi = \"pi to 10th digit = {:1.10f}\".format(np.pi)  \n",
    "\n",
    "print (pi)\n",
    "#/"
   ]
  },
  {
   "cell_type": "markdown",
   "metadata": {
    "id": "t_llnyJ0L-r-"
   },
   "source": [
    "## Lists and Arrays\n",
    "\n",
    "Frequently it is useful to store sets of data. Python allows you to do this either using lists or arrays. Lists allow you to store multiple types of data in one list. Arrays only store one type of data but they have the advantage that you can preform vector operations on them, as illustrated below.\n",
    "\n",
    "Arrays are defined in the Numpy package, the fundamental package for scientific computing in python. This package has many built-in functions that you will find useful. You can get a list of all numpy built-in functions from `np.<tab>`. "
   ]
  },
  {
   "cell_type": "code",
   "execution_count": 7,
   "metadata": {
    "id": "Qbzwd6UTL-r_"
   },
   "outputs": [
    {
     "name": "stdout",
     "output_type": "stream",
     "text": [
      "Here's a list of integers:  [1, 2, 3, 4, 5, 6]\n",
      "This list is of type: <class 'list'>, and length 6\n",
      "This list is of mixed datatype, consisting of integer variables, strings, and integers:  [20, 'b', 'cdefg', 'h', 'i', 3, 5, 7]\n",
      "It is of type: <class 'list'>, and length 8\n"
     ]
    }
   ],
   "source": [
    "# A list of objects can contain variables of any datatype\n",
    "# Here is how you define a list.\n",
    "\n",
    "List1 = [1, 2, 3, 4, 5, 6]\n",
    "print(\"Here's a list of integers: \", List1)\n",
    "print (\"This list is of type: {}, and length {}\".format(type(List1), len(List1)))\n",
    "\n",
    "List2 = [a, \"b\", \"cdefg\", \"h\", \"i\", 3, 5, 7]\n",
    "print(\"This list is of mixed datatype, consisting of integer variables, strings, and integers: \", List2)\n",
    "print (\"It is of type: {}, and length {}\".format(type(List2), len(List2)))"
   ]
  },
  {
   "cell_type": "code",
   "execution_count": 9,
   "metadata": {
    "id": "2Me-Kw2eL-sA"
   },
   "outputs": [
    {
     "name": "stdout",
     "output_type": "stream",
     "text": [
      "Here's the same integer list turned into a floating point array:  [1. 2. 3. 4. 5. 6.]\n",
      "So we would get an error if we try to convert List2 into floating point numbers:\n"
     ]
    }
   ],
   "source": [
    "nArrayConverted = np.array(List1, 'float')\n",
    "print (\"Here's the same integer list turned into a floating point array: \", nArrayConverted)\n",
    "\n",
    "print(\"So we would get an error if we try to convert List2 into floating point numbers:\")\n",
    "##### DO THIS: try uncommenting the following line:\n",
    "# nArrayConverted = array(List2,'float')"
   ]
  },
  {
   "cell_type": "code",
   "execution_count": 10,
   "metadata": {
    "id": "gEFb7WJEL-sA"
   },
   "outputs": [
    {
     "name": "stdout",
     "output_type": "stream",
     "text": [
      "[1, 2, 3]\n",
      "[1, 2, 3, 1, 2, 3, 1, 2, 3, 1, 2, 3, 1, 2, 3]\n",
      "[ 5 10 15]\n"
     ]
    }
   ],
   "source": [
    "# Here's an example to illustrate the difference between lists and arrays. Do you see the difference?\n",
    "\n",
    "a = [1, 2, 3] #a list\n",
    "print(a)\n",
    "print(5 * a)\n",
    "b = np.array([1, 2, 3]) #an array\n",
    "print(5 * b)"
   ]
  },
  {
   "cell_type": "code",
   "execution_count": 11,
   "metadata": {
    "id": "DBU7Byf8L-sB"
   },
   "outputs": [
    {
     "name": "stdout",
     "output_type": "stream",
     "text": [
      "[6 7 8]\n",
      "[ 4 10 18]\n"
     ]
    }
   ],
   "source": [
    "# Similarly, you can add a constant to an array\n",
    "print(5 + b)\n",
    "# but not to a list. \n",
    "\n",
    "##### DO THIS: try uncommenting out the next line to see\n",
    "# print(5 + a)\n",
    "\n",
    "# Likewise, you can multiply two arrays together, provided the arrays are the same length. \n",
    "# Notice that this results in element-wise multiplication, not a dot product nor a cross product.\n",
    "# Numpy has separate routines for that you can read about at \n",
    "# https://docs.scipy.org/doc/numpy/reference/generated/numpy.dot.html and\n",
    "# https://docs.scipy.org/doc/numpy/reference/generated/numpy.cross.html\n",
    "c = np.array([4,5,6])\n",
    "print(b * c)\n"
   ]
  },
  {
   "cell_type": "markdown",
   "metadata": {
    "id": "kAaeV9y-L-sC"
   },
   "source": [
    "#### Exercise 1.3\n",
    "\n",
    "In the cell below define two arrays: even = (2,4,6,8) and odd = (1,3,5,7). Add 3 to the even array and multiply the odd array by 2. Then multiply the two arrays together and print your answer. See if you can do everything except defining the arrays all together in one line of code.\n"
   ]
  },
  {
   "cell_type": "code",
   "execution_count": 16,
   "metadata": {
    "id": "Ch3jiLejL-sC"
   },
   "outputs": [
    {
     "name": "stdout",
     "output_type": "stream",
     "text": [
      "[ 16  48  96 160]\n"
     ]
    }
   ],
   "source": [
    "#/ <Exercise 1.3 solution>\n",
    "\n",
    "a = np.array([2,4,6,8])\n",
    "b = np.array([1,3,5,7])\n",
    "b +=3\n",
    "a = a*2\n",
    "print(a*b)\n",
    "\n",
    "#/"
   ]
  },
  {
   "cell_type": "markdown",
   "metadata": {
    "id": "YzRPoQUXL-sD"
   },
   "source": [
    "### Making arrays:\n",
    "\n",
    "There are two main ways to generate arrays of regularly-spaced numbers  \n",
    "in Python – `linspace` and `arange`.  An example of each is shown below.  \n",
    "Try to understand the purpose of each argument in these two calls."
   ]
  },
  {
   "cell_type": "code",
   "execution_count": 23,
   "metadata": {
    "id": "12Zm9tChL-sD"
   },
   "outputs": [
    {
     "name": "stdout",
     "output_type": "stream",
     "text": [
      "array generated with 'linspace' [0.         0.33333333 0.66666667 1.         1.33333333 1.66666667\n",
      " 2.         2.33333333 2.66666667 3.        ]\n"
     ]
    }
   ],
   "source": [
    "array1 = np.arange(0,3, 0.1)\n",
    "# print(\"array generated with 'arange'\", array1)\n",
    "\n",
    "array2 = np.linspace(0, 3, 10)\n",
    "print(\"array generated with 'linspace'\", array2)"
   ]
  },
  {
   "cell_type": "markdown",
   "metadata": {
    "id": "Y1O5Y6_SL-sE"
   },
   "source": [
    "#### Exercise 1.4\n",
    "\n",
    "Generate a regularly-spaced array with values ranging from 1 to 5 (inclusive) and  \n",
    "spacing between array values of 0.1.  Do this with both `arange` and with `linspace`,  \n",
    "and print out your results in the cell below.\n",
    "\n",
    "*Coding style tip: rather than doing any necessary calculations elsewhere (say, a piece of scratch paper), include those calculation in the cell block. This way, you'll have a record of what you did and it will be easy to reproduce the calculations for different values, for instance an array that goes from 1 to 6.*"
   ]
  },
  {
   "cell_type": "code",
   "execution_count": 27,
   "metadata": {
    "id": "iccPkXSAL-sE"
   },
   "outputs": [
    {
     "data": {
      "text/plain": [
       "array([1. , 1.1, 1.2, 1.3, 1.4, 1.5, 1.6, 1.7, 1.8, 1.9, 2. , 2.1, 2.2,\n",
       "       2.3, 2.4, 2.5, 2.6, 2.7, 2.8, 2.9, 3. , 3.1, 3.2, 3.3, 3.4, 3.5,\n",
       "       3.6, 3.7, 3.8, 3.9, 4. , 4.1, 4.2, 4.3, 4.4, 4.5, 4.6, 4.7, 4.8,\n",
       "       4.9, 5. ])"
      ]
     },
     "execution_count": 27,
     "metadata": {},
     "output_type": "execute_result"
    }
   ],
   "source": [
    "#/ <Exercise 1.4 solution>\n",
    "array1 = np.arange(1,5.1, 0.1)\n",
    "\n",
    "array2 = np.linspace(1, 5, 41)\n",
    "#/\n"
   ]
  },
  {
   "cell_type": "markdown",
   "metadata": {
    "id": "s_3cyAvCL-sF"
   },
   "source": [
    "### Indexing and slicing \n",
    "Data is stored in lists and arrays by *index*, with the index count starting at zero. One tool that makes lists and arrays especially powerful is the ability to select different elements from them. The block of code below will show you several examples of how to do so."
   ]
  },
  {
   "cell_type": "code",
   "execution_count": 29,
   "metadata": {
    "id": "1v1a15qKL-sG"
   },
   "outputs": [
    {
     "name": "stdout",
     "output_type": "stream",
     "text": [
      " We begin with a comma-separated array of integers:  [ 1 -6  5  0  0  9  5 -4  1  2  2  5 20  3]\n",
      " The element at index 3 is:   0\n",
      " The first element is:  1\n",
      " The last element is:  3\n",
      " The first 4 elements are:  [ 1 -6  5  0]\n",
      " The last 5 elements are:  [ 2  2  5 20  3]\n",
      " The index of the largest element in the array is:  12\n",
      " The value of the largest element in the array is:  20\n",
      " These are the indices of arrayA that are not 0:  (array([ 0,  1,  2,  5,  6,  7,  8,  9, 10, 11, 12, 13]),)\n",
      " These are the non zero values in  arrayA:  [ 1 -6  5  9  5 -4  1  2  2  5 20  3]\n",
      " These are the indices of arrayA that have zeros:  (array([3, 4]),)\n",
      " Which will (of course) yield  [0 0]\n"
     ]
    },
    {
     "data": {
      "text/plain": [
       "array([False, False, False,  True,  True, False, False, False, False,\n",
       "       False, False, False, False, False])"
      ]
     },
     "execution_count": 29,
     "metadata": {},
     "output_type": "execute_result"
    }
   ],
   "source": [
    "##### DO THIS: read this code first and try to predict what the output will look like below.\n",
    "# Write the predictions on a piece of paper,\n",
    "# Then execute this cell and scroll down to see if you were correct.\n",
    "\n",
    "arrayA = np.array([1,-6,5,0,0,9,5,-4,1,2,2,5,20,3])\n",
    "\n",
    "print(\" We begin with a comma-separated array of integers: \", arrayA)\n",
    "print(\" The element at index 3 is:  \",arrayA[3])\n",
    "print(\" The first element is: \",arrayA[0])\n",
    "print(\" The last element is: \",arrayA[-1])\n",
    "print(\" The first 4 elements are: \",arrayA[0:4])\n",
    "print(\" The last 5 elements are: \",arrayA[-5:])  #the 5th element from the end to the end\n",
    "print(\" The index of the largest element in the array is: \", np.argmax(arrayA)) #argmax gives the index, not the value\n",
    "print(\" The value of the largest element in the array is: \",arrayA[np.argmax(arrayA)])\n",
    "\n",
    "notzeroindices = np.nonzero(arrayA)\n",
    "print(\" These are the indices of arrayA that are not 0: \",notzeroindices)\n",
    "print(\" These are the non zero values in  arrayA: \",arrayA[notzeroindices])\n",
    "print(\" These are the indices of arrayA that have zeros: \",np.nonzero(arrayA==0))\n",
    "print(\" Which will (of course) yield \",arrayA[np.nonzero(arrayA==0)])"
   ]
  },
  {
   "cell_type": "markdown",
   "metadata": {
    "id": "fAHFylZvL-sG"
   },
   "source": [
    "#### Exercise 1.5\n",
    "\n",
    "Write code to find and print the largest element in the first half of arrayA. Don't hard-code in any numbers; your code should work just as well if you were to change arrayA to a different length.\n",
    "\n",
    "*Hint:* the function len() will return the length of an array and round() will round a float to an integer."
   ]
  },
  {
   "cell_type": "code",
   "execution_count": 50,
   "metadata": {
    "id": "RswVKqgtL-sH"
   },
   "outputs": [
    {
     "name": "stdout",
     "output_type": "stream",
     "text": [
      "9\n"
     ]
    }
   ],
   "source": [
    "#/ <Exercise 1.5  solution>\n",
    "# arrayA[:round(len(arrayA)/2)]\n",
    "print(arrayA[np.argmax(arrayA[:round(len(arrayA)/2)])])\n",
    "#/"
   ]
  },
  {
   "cell_type": "code",
   "execution_count": 47,
   "metadata": {
    "id": "VA5MHrRDL-sH"
   },
   "outputs": [
    {
     "name": "stdout",
     "output_type": "stream",
     "text": [
      " Define a new 2-dimensional array as arrayB :\n",
      " [[0 0]\n",
      " [2 3]\n",
      " [4 5]]\n",
      " The zeroth element of row 1 in arrayB:  2\n",
      " Slice the zeroth row of arrayB:  [0 0]\n",
      " Slice row 1 of arrayB:  [2 3]\n",
      " Slice the zeroth column of arrayB:  [0 2 4]\n",
      " Pick out the first two rows of arrayB: \n",
      " [[0 0]\n",
      " [2 3]]\n"
     ]
    }
   ],
   "source": [
    "# Arrays can also have more than one dimension. \n",
    "# When a multi-dimensional array is defined, as below, indices can be specified to select individual elements\n",
    "# or entire columns and rows.\n",
    "\n",
    "arrayB =np. array([[0,0],[2,3],[4,5]])\n",
    "print(\" Define a new 2-dimensional array as arrayB :\\n\",arrayB)\n",
    "print(\" The zeroth element of row 1 in arrayB: \",arrayB[1,0])\n",
    "print(\" Slice the zeroth row of arrayB: \",arrayB[0,:])\n",
    "\n",
    "print(\" Slice row 1 of arrayB: \",arrayB[1,:])\n",
    "print(\" Slice the zeroth column of arrayB: \",arrayB[:,0])\n",
    "print(\" Pick out the first two rows of arrayB: \\n\",arrayB[0:2,:])\n"
   ]
  },
  {
   "cell_type": "markdown",
   "metadata": {
    "id": "O4JXNSk7L-sI"
   },
   "source": [
    "#### Exercise 1.6\n",
    "\n",
    "Write code to print out the following for arrayB: 1) the element in column 1 and row 2; 2) the entire column 1; and 3) the entire row 2."
   ]
  },
  {
   "cell_type": "code",
   "execution_count": 58,
   "metadata": {
    "id": "dmQhTz9oL-sJ"
   },
   "outputs": [
    {
     "name": "stdout",
     "output_type": "stream",
     "text": [
      "2\n",
      "[0 2 4]\n",
      "[2 3]\n"
     ]
    }
   ],
   "source": [
    "#/ <Exercise 1.6 solution>\n",
    "print (arrayB[1,0])\n",
    "print (arrayB[:,0])\n",
    "print (arrayB[1,:])\n",
    "\n",
    "#/"
   ]
  },
  {
   "cell_type": "markdown",
   "metadata": {
    "id": "ipUjHyk8L-sJ"
   },
   "source": [
    "## Plotting\n",
    "\n",
    "One of the benefits of using python is that it makes it very easy to create attractive graphics. In particular, we'll be using it to plot data in this class.  In learning how to generate a plot, the examples in the matplotlib references (in particular http://matplotlib.org/) are good places to start.  \n",
    "\n",
    "There are a couple different ways to make plots in Python, but we'll focus on the matplotlib object-oriented method, as it gives us a nice balance between ease of use, readability, and adjustability. If you want to learn more in detail about object-oriented programming, there's a programming resource guide about that. You may already have that folder, or you can ask your professor for it if not. For more detail about matplotlib in specific, you could check out [this blog post from the matplotlib team](https://matplotlib.org/matplotblog/posts/pyplot-vs-object-oriented-interface/), which some of this guide is based on.\n",
    "\n",
    "The core concept of object-oriented plotting methods is that you create Python objects and then you can add new objects inside of those or change elements of those objects. The final plot you see is a `Figure` object. This is the top-level container for all other objects. The elements in this are called `Artists`. Think of the figure as a canvas on which the artists draw. Below the figure object are `Axes`, which hold the actual data for display. You can have multiple `Axes` in each figure. Let's look at a simple example. First let's make a basic plot of `sin(x)`."
   ]
  },
  {
   "cell_type": "code",
   "execution_count": 88,
   "metadata": {
    "id": "iFNN6QZDL-sK"
   },
   "outputs": [],
   "source": [
    "N_PTS =10000  # Number of points\n",
    "x = np.linspace(0.0, 4*np.pi, N_PTS)  # Create array from 0 to 4pi with N_PTS total points\n",
    "y = np.sin(x)  #  Create sine data"
   ]
  },
  {
   "cell_type": "markdown",
   "metadata": {
    "id": "T5XVDDcWL-sK"
   },
   "source": [
    "Now that we have some data to work with, let's make the simplest possible plot with it. The code below does the following:\n",
    "1. First, we use `plt.subplots()` to create a `Figure` and an `Axes` object simultaneously. \n",
    "2. We use `ax.plot()` to create a `Line` object on our `Axes`. A `Line` is a type of `Artist`.\n",
    "3. We call `plt.show()`, which generates the final figure."
   ]
  },
  {
   "cell_type": "code",
   "execution_count": 61,
   "metadata": {
    "id": "dqq4DVffL-sL"
   },
   "outputs": [
    {
     "data": {
      "image/png": "[encoded data removed]",
      "text/plain": [
       "<Figure size 432x288 with 1 Axes>"
      ]
     },
     "metadata": {
      "needs_background": "light"
     },
     "output_type": "display_data"
    }
   ],
   "source": [
    "fig, ax = plt.subplots()  # Create Figure and Axes\n",
    "ax.plot(x, y)  # Add plot\n",
    "plt.show()  # Show the plot"
   ]
  },
  {
   "cell_type": "markdown",
   "metadata": {
    "id": "0vSLFknUL-sL"
   },
   "source": [
    "This is ok, but not great for a number of reasons.  The minimum and maximum values chosen on the x and y axes are not ideal, and there are no labels to denote what you are plotting.  For example, I can set the x-axis limits using `ax.set_xlim(min, max)`, which sets the limits, rather than letting Python try to choose them automatically."
   ]
  },
  {
   "cell_type": "code",
   "execution_count": 62,
   "metadata": {
    "id": "LRQ2jUuaL-sM"
   },
   "outputs": [
    {
     "data": {
      "image/png": "[encoded data removed]",
      "text/plain": [
       "<Figure size 432x288 with 1 Axes>"
      ]
     },
     "metadata": {
      "needs_background": "light"
     },
     "output_type": "display_data"
    }
   ],
   "source": [
    "fig, ax = plt.subplots()  # Create Figure and Axes\n",
    "ax.plot(x, y)  # Add plot\n",
    "ax.set_xlim(0, 4*np.pi) # Define x limits\n",
    "plt.show()  # Show the plot"
   ]
  },
  {
   "cell_type": "markdown",
   "metadata": {
    "id": "7kPDzfBmL-sM"
   },
   "source": [
    "#### Exercise 1.7\n",
    "\n",
    "Try to make a nicer version of the same plot that looks like the one pasted in below:  \n",
    "\n",
    "*Hint:*  You can type `ax.[tab]` to list all of the commands you can put after it.  Once you have typed in a new command, typing `shift-tab` will provide you with additional help for that command.  Also, google can be extremely helpful for finding sample code and examples. Just make sure to obey the rules of academic honesty and never pass off someone else's work as your own!\n",
    "\n",
    "<img src=\"intro_ex_1-7.png\">\n",
    "\n"
   ]
  },
  {
   "cell_type": "code",
   "execution_count": null,
   "metadata": {
    "id": "lqqVtCqkL-sN"
   },
   "outputs": [],
   "source": [
    "# Plot commands go here:\n",
    "\n",
    "#/ <Exercise 1.7 solution>\n",
    "\n",
    "#/"
   ]
  },
  {
   "cell_type": "markdown",
   "metadata": {
    "id": "v0w1Hfk2L-sN"
   },
   "source": [
    "Now that you are introduced to Python, let's use it to understand an important mathematical concept: Taylor Series."
   ]
  },
  {
   "cell_type": "markdown",
   "metadata": {
    "id": "5CiU6fhLL-sO"
   },
   "source": [
    "# Learning about Taylor Series:\n",
    "\n",
    "Assume a function $f(x)$ can be approximated by a power series of the form:\n",
    "\n",
    "$$ f(x) = a_{0} + a_{1}x + a_{2}x^{2} + ...  a_{n}x^{n}$$\n",
    "\n",
    "We would like to find the valued of the coefficients $a_{0}$, $a_{1}$, $a_{2}$, etc. that satisfy this equation.\n",
    "\n",
    "We can start by taking a derivative of $f(x)$:\n",
    "\n",
    "$$ f'(x) = a_{1} + 2 a_{2}x + 3 a_{3}x^{2} ...  n a_{n}x^{n-1}$$\n",
    "\n",
    "Next we'll take the second and third derivatives:\n",
    "\n",
    "$$ f''(x) = 2 a_{2} + (3*2) a_{3}x + (4*3) a_{4}x^{2} ...  n(n-1) a_{n}x^{n-2}$$\n",
    "\n",
    "$$ f'''(x) = (3*2) a_{3} + (4*3*2) a_{4}x + 5*4*3 a_{5}x^{2} ...  n(n-1)(n-2) a_{n}x^{n-3}$$\n",
    "\n",
    "$$ etc.$$\n",
    "\n",
    "We can now determine the values of the $a_{n}$ coefficients by choosing to approximate $f(x)$ about $x=0$.  Plugging in $x=0$ to the above equations gives:\n",
    "\n",
    "$$a_{0} = f(0)$$\n",
    "\n",
    "$$a_{1} = f'(0)$$\n",
    "\n",
    "$$a_{2} = \\frac{1}{2}f''(0)$$\n",
    "\n",
    "$$a_{3} = \\frac{1}{6}f'''(0)$$\n",
    "\n",
    "$$.$$\n",
    "$$.$$\n",
    "$$.$$\n",
    "\n",
    "$$a_{n} = \\frac{1}{n!}f^{(n)}(0) $$\n",
    "\n",
    "and, \n",
    "\n",
    "$$ f(x) = f(0) + \\frac{f'(0)}{1!}x + \\frac{f''(0)}{2!}x^{2} + ...  \\frac{f^{(n)}(0)}{n!}x^{n} $$\n",
    "\n",
    "\n",
    "We can try this out for the example of $y = \\sin(x)$:\n",
    "\n",
    "$$ y(0) = 0$$\n",
    "\n",
    "$$y'(0) = 1$$ \n",
    "\n",
    "$$etc.$$\n",
    "\n",
    "Therefore, \n",
    "\n",
    "$$ \\sin(x) = x ...$$\n",
    "\n",
    "(i.e., the small angle approximation)\n",
    "\n",
    "\n",
    "Taking just the first order term in a Taylor series is typically called a \"first order Taylor approximation\".  Taking all terms up to 3rd order would be called a 3rd order Taylor approximation.  Let's try plotting some Taylor approximations of $\\sin(x)$ about the point $x=0$:\n",
    "\n"
   ]
  },
  {
   "cell_type": "markdown",
   "metadata": {
    "id": "28hJdqzLL-sO"
   },
   "source": [
    "#### Exercise 1.8\n",
    "The cell below will plot the original function and its 1st order Taylor approxmation.\n",
    "Modify it to also include higher-order Taylor approximations up to 5th order. ***Over what range of x values is the Taylor series a good approximation for sin(x)?*** (for angles less than 1 (small angles))"
   ]
  },
  {
   "cell_type": "code",
   "execution_count": 66,
   "metadata": {
    "id": "KZjx2ta7L-sP"
   },
   "outputs": [
    {
     "data": {
      "image/png": "[encoded data removed]",
      "text/plain": [
       "<Figure size 432x288 with 1 Axes>"
      ]
     },
     "metadata": {
      "needs_background": "light"
     },
     "output_type": "display_data"
    }
   ],
   "source": [
    "y1 = x  #1st order Taylor approximation\n",
    "\n",
    "\n",
    "# Set up plot\n",
    "fig, ax = plt.subplots()\n",
    "ax.set_xlim(0, 2*np.pi)\n",
    "ax.set_ylim(-2., 2.0)\n",
    "ax.set_xlabel('x')\n",
    "ax.set_ylabel('y')\n",
    "ax.set_title('Sin(x)')\n",
    "\n",
    "# Plot data\n",
    "ax.plot(x, y, color='red') # Plot sin(x)\n",
    "ax.plot(x, y1, color='blue') # Plot the 1st order Taylor approx for sin(x)\n",
    "\n",
    "#/ <Exercise 1.8 Instructor solution>\n",
    "y3 = y1 - x**3 / np.math.factorial(3) #3rd order Taylor approximation\n",
    "y5 = y3 + x**5 / np.math.factorial(5)\n",
    "ax.plot(x, y3, color='green') #plot the 1st order Taylor approx for sin(x)\n",
    "ax.plot(x, y5, color='black') #plot the 1st order Taylor approx for sin(x)\n",
    "#/\n",
    "plt.show()"
   ]
  },
  {
   "cell_type": "markdown",
   "metadata": {
    "id": "fj1MNbRoL-sP"
   },
   "source": [
    "### Taylor series about an arbitrary x value:\n",
    "\n",
    "So far, we have only looked at Taylor series about the point $x=0$.  This is techically a special case of a Taylor series, also called a Maclaurin series.  In general, to compute a Taylor series about an arbitrary location of $x = a$, we must make the following alteration to our Taylor series expression:\n",
    "\n",
    "$$ f(x) = f(a) + \\frac{f'(a)}{1!}(x-a) + \\frac{f''(a)}{2!}(x-a)^{2} + ...  \\frac{f^{(n)}(a)}{n!}(x-a)^{n} $$"
   ]
  },
  {
   "cell_type": "markdown",
   "metadata": {
    "id": "HAfUT9cWL-sQ"
   },
   "source": [
    "#### Exercise 1.9\n",
    "\n",
    "1) On a separate piece of paper, show that the general Taylor series expression above reduces to the Maclaurin series when $a = 0$, i.e. when the expansion is done about the origin.  \n",
    "\n",
    "2) On a separate piece of paper, find an expression for the third order Taylor series for $\\sin(x)$ at $x = 3.0$. That is, $a=3$, and $x$ is a variable representing a number close to 3.\n",
    "\n",
    "3) In the cell below, plot $\\sin(x)$ and your Taylor series approximation around $a = 3$ using the same set of axes.\n"
   ]
  },
  {
   "cell_type": "code",
   "execution_count": 67,
   "metadata": {
    "id": "dY2Rgo59L-sQ"
   },
   "outputs": [
    {
     "data": {
      "image/png": "[encoded data removed]",
      "text/plain": [
       "<Figure size 432x288 with 1 Axes>"
      ]
     },
     "metadata": {
      "needs_background": "light"
     },
     "output_type": "display_data"
    }
   ],
   "source": [
    "#/ <Exercise 1.9 Instructor solution>\n",
    "a=3\n",
    "y1 = np.cos(3)*(x-3)  #1st order Taylor approximation\n",
    "fig, ax = plt.subplots()\n",
    "ax.set_xlim(0, 2*np.pi)\n",
    "ax.set_ylim(-2., 2.0)\n",
    "ax.set_xlabel('x')\n",
    "ax.set_ylabel('y')\n",
    "ax.set_title('Sin(x)')\n",
    "\n",
    "# Plot data\n",
    "ax.plot(x, y, color='red') # Plot sin(x)\n",
    "ax.plot(x, y1, color='blue') # Plot the 1st order Taylor approx for sin(x)\n",
    "\n",
    "#/ <Exercise 1.8 Instructor solution>\n",
    "y3 = y1 - (x-a)**3 / np.math.factorial(3) #3rd order Taylor approximation\n",
    "y5 = y3 + (x-a)**5 / np.math.factorial(5)\n",
    "ax.plot(x, y3, color='green') #plot the 1st order Taylor approx for sin(x)\n",
    "ax.plot(x, y5, color='black') #plot the 1st order Taylor approx for sin(x)\n",
    "#/\n",
    "plt.show()\n",
    "\n",
    "#/"
   ]
  },
  {
   "cell_type": "markdown",
   "metadata": {
    "id": "PjsM79ffL-sR"
   },
   "source": [
    "## Check-out\n",
    "#### Exercise 1.10\n",
    "\n",
    "Briefly summarize in the cell below the ideas of today's notebook."
   ]
  },
  {
   "cell_type": "code",
   "execution_count": null,
   "metadata": {
    "id": "PYb3GCMnL-sR"
   },
   "outputs": [],
   "source": [
    "Introduction to python including data types arrays and lists, 2d arrays, calculations, and plotting \n",
    "final excercise was using all of this to do taylor approximation"
   ]
  },
  {
   "cell_type": "markdown",
   "metadata": {
    "id": "LQCXV_4VL-sS"
   },
   "source": [
    "## Challenge Problems"
   ]
  },
  {
   "cell_type": "markdown",
   "metadata": {
    "id": "wbc6XEmnL-sS"
   },
   "source": [
    "#### Exercise 1.11\n",
    "\n",
    "On a separate piece of paper, derive Taylor series expressions for $\\cos(x)$, $e^{x}$, $\\ln(1+x)$, and $(1+x)^{n}$ (where $n$ is a constant) around x = 0.  In the final two cases, comment on the range of $x$ and $n$ values that will provide a convergent solution.  Then plot the first three terms of the Taylor approximations for each function in separate plot windows in the cells below:\n",
    "\n",
    "** Note: The Taylor series that you just derived are used often enough in physics that it is worth committing them to memory! **"
   ]
  },
  {
   "cell_type": "code",
   "execution_count": 122,
   "metadata": {
    "id": "N34v2FHYL-sT"
   },
   "outputs": [
    {
     "data": {
      "text/plain": [
       "[<matplotlib.lines.Line2D at 0x7fd939c9a8e0>]"
      ]
     },
     "execution_count": 122,
     "metadata": {},
     "output_type": "execute_result"
    },
    {
     "data": {
      "image/png": "[encoded data removed]",
      "text/plain": [
       "<Figure size 432x288 with 1 Axes>"
      ]
     },
     "metadata": {
      "needs_background": "light"
     },
     "output_type": "display_data"
    }
   ],
   "source": [
    "# cos(x)\n",
    "x = np.linspace(0,4*np.pi,50)\n",
    "y = np.cos(x)\n",
    "y3 =  1 - 1/np.math.factorial(2) *x**2 + 1/np.math.factorial(4) *x**4 - 1/np.math.factorial(6) *x**6\n",
    "\n",
    "# Set up plot\n",
    "fig, ax = plt.subplots()\n",
    "ax.set_xlim(0, 4*np.pi)\n",
    "ax.set_ylim(-2.,2.0)\n",
    "ax.set_xlabel('x')\n",
    "ax.set_ylabel('y')\n",
    "ax.set_title('cos(x)')\n",
    "\n",
    "# Plot data\n",
    "plt.plot(x, y, color='red') #plot y(x)\n",
    "plt.plot(x, y3, color='blue') #plot Taylor series approximation\n",
    "\n",
    "\n",
    "#/ <Exercise 1.10 Instructor solution>\n",
    "\n",
    "#/"
   ]
  },
  {
   "cell_type": "code",
   "execution_count": 156,
   "metadata": {
    "id": "mx5nOYi-L-sT"
   },
   "outputs": [
    {
     "data": {
      "text/plain": [
       "[<matplotlib.lines.Line2D at 0x7fd9198df4c0>]"
      ]
     },
     "execution_count": 156,
     "metadata": {},
     "output_type": "execute_result"
    },
    {
     "data": {
      "image/png": "[encoded data removed]",
      "text/plain": [
       "<Figure size 432x288 with 1 Axes>"
      ]
     },
     "metadata": {
      "needs_background": "light"
     },
     "output_type": "display_data"
    }
   ],
   "source": [
    "# e^x\n",
    "\n",
    "#/ <Exercise 1.10 Instructor solution>\n",
    "\n",
    "x = np.linspace(0,10,50)\n",
    "y = np.e**x\n",
    "\n",
    "y3 =  1 + x**1/np.math.factorial(1) + x**2/np.math.factorial(2) + x**3/np.math.factorial(3)  + x**4/np.math.factorial(4) + x**5/np.math.factorial(5) + x**6/np.math.factorial(6)    \n",
    "\n",
    "# Set up plot\n",
    "fig, ax = plt.subplots()\n",
    "# ax.set_xlim(0, 4*np.pi)\n",
    "ax.set_ylim(0.,1000.0)\n",
    "ax.set_xlabel('x')\n",
    "ax.set_ylabel('y')\n",
    "ax.set_title('e^x')\n",
    "\n",
    "# Plot data\n",
    "plt.plot(x, y, color='red') #plot y(x)\n",
    "plt.plot(x, y3, color='blue') #plot Taylor series approximation\n",
    "\n",
    "\n",
    "#/ <Exercise 1.10 Instructor solution>\n",
    "\n",
    "#/\n",
    "# Set up plot\n",
    "\n",
    "# Plot data\n",
    "\n",
    "#/"
   ]
  },
  {
   "cell_type": "markdown",
   "metadata": {
    "id": "tSzB_sNZL-sU"
   },
   "source": [
    "# ln(1+x)\n",
    "\n",
    "#/ <Exercise 1.10 Instructor solution>\n",
    "\n",
    "#/\n"
   ]
  },
  {
   "cell_type": "code",
   "execution_count": 155,
   "metadata": {
    "id": "xyjlN65BL-sU"
   },
   "outputs": [
    {
     "data": {
      "text/plain": [
       "[<matplotlib.lines.Line2D at 0x7fd959a5cd60>]"
      ]
     },
     "execution_count": 155,
     "metadata": {},
     "output_type": "execute_result"
    },
    {
     "data": {
      "image/png": "[encoded data removed]",
      "text/plain": [
       "<Figure size 432x288 with 1 Axes>"
      ]
     },
     "metadata": {
      "needs_background": "light"
     },
     "output_type": "display_data"
    }
   ],
   "source": [
    "# (1+x)^n\n",
    "\n",
    "#/ <Exercise 1.10 Instructor solution>\n",
    "\n",
    "x = np.linspace(0,50,500)\n",
    "y = (1+x)**3\n",
    "y3 =  1 + 3*x /np.math.factorial(1) + 3*2 * x**2 /np.math.factorial(2) + 3*2*x**3 /np.math.factorial(3)\n",
    "\n",
    "# Set up plot\n",
    "fig, ax = plt.subplots()\n",
    "# ax.set_xlim(0, 4*np.pi)\n",
    "ax.set_ylim(0.,10000.0)\n",
    "ax.set_xlabel('x')\n",
    "ax.set_ylabel('y')\n",
    "ax.set_title('(1+x)^2')\n",
    "\n",
    "# Plot data\n",
    "plt.plot(x, y, color='red') #plot y(x)\n",
    "plt.plot(x, y3, color='blue') #plot Taylor series approximation\n",
    "\n",
    "\n",
    "#/\n"
   ]
  },
  {
   "cell_type": "code",
   "execution_count": 166,
   "metadata": {},
   "outputs": [
    {
     "data": {
      "text/plain": [
       "[<matplotlib.lines.Line2D at 0x7fd9081a4b50>]"
      ]
     },
     "execution_count": 166,
     "metadata": {},
     "output_type": "execute_result"
    },
    {
     "data": {
      "image/png": "[encoded data removed]",
      "text/plain": [
       "<Figure size 432x288 with 1 Axes>"
      ]
     },
     "metadata": {
      "needs_background": "light"
     },
     "output_type": "display_data"
    }
   ],
   "source": [
    "#  ln(1+x)\n",
    "\n",
    "x = np.linspace(0,10,500)\n",
    "y = np.log(1+x)\n",
    "y3 =  0 + 1*x /np.math.factorial(1) + -1 * x**2 /np.math.factorial(2) + 2*x**3 /np.math.factorial(3) - x**4 / np.math.factorial(4) + x**5 / np.math.factorial(5) - x**6 /np.math.factorial(6) \n",
    "\n",
    "# Set up plot\n",
    "fig, ax = plt.subplots()\n",
    "# ax.set_xlim(0, 4*np.pi)\n",
    "ax.set_ylim(0.,15.0)\n",
    "ax.set_xlabel('x')\n",
    "ax.set_ylabel('y')\n",
    "ax.set_title('(1+x)^2')\n",
    "\n",
    "# Plot data\n",
    "plt.plot(x, y, color='red') #plot y(x)\n",
    "plt.plot(x, y3, color='blue') #plot Taylor series approximation\n"
   ]
  }
 ],
 "metadata": {
  "colab": {
   "name": "NB1-IntroPythonTaylorSeries.ipynb",
   "provenance": []
  },
  "kernelspec": {
   "display_name": "Python 3 (ipykernel)",
   "language": "python",
   "name": "python3"
  },
  "language_info": {
   "codemirror_mode": {
    "name": "ipython",
    "version": 3
   },
   "file_extension": ".py",
   "mimetype": "text/x-python",
   "name": "python",
   "nbconvert_exporter": "python",
   "pygments_lexer": "ipython3",
   "version": "3.9.5"
  }
 },
 "nbformat": 4,
 "nbformat_minor": 1
}
